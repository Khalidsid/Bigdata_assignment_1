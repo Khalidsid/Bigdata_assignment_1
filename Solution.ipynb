{
  "nbformat": 4,
  "nbformat_minor": 0,
  "metadata": {
    "colab": {
      "name": "Big_data_term_assignment1 _u36900.ipynb",
      "provenance": []
    },
    "kernelspec": {
      "name": "python3",
      "display_name": "Python 3"
    },
    "language_info": {
      "name": "python"
    }
  },
  "cells": [
    {
      "cell_type": "markdown",
      "source": [
        "**Tasks**\n",
        "\n",
        "Combine the tables in a way that lets you answer the following questions:\n",
        "1. What is the most common age in the social network? How many people share it?\n",
        "2. List the five people with least posts and reactions combined. (least active people)\n",
        "3. Create a plot of the friendship graph (up to degree 2) for all users:\n",
        "named „Jean-Luc Picard“ - named „Jean-Luc Roth“\n"
      ],
      "metadata": {
        "id": "feNNqbQ2SF46"
      }
    },
    {
      "cell_type": "markdown",
      "source": [
        "# **Solution**"
      ],
      "metadata": {
        "id": "wnMYGArs2s-x"
      }
    },
    {
      "cell_type": "markdown",
      "source": [
        "**Step 1: Reading the tables from CSV files into pandas dataframe 'friends', 'posts', 'reactions' and 'user' using pandas library**"
      ],
      "metadata": {
        "id": "xIVW6F6y3HYI"
      }
    },
    {
      "cell_type": "code",
      "source": [
        "import pandas as pd\n",
        "import numpy as np\n",
        "#reading csv file named 'friends_table.csv' stored in personal github repository using pandas\n",
        "friends = pd.read_csv(\"https://raw.githubusercontent.com/Khalidsid/Bigdata_assignment_1/main/friends_table.csv\")         \n",
        "\n",
        "#reading csv file named 'posts_table.csv' stored in personal github repository using pandas\n",
        "posts = pd.read_csv(\"https://raw.githubusercontent.com/Khalidsid/Bigdata_assignment_1/main/posts_table.csv\")           \n",
        "\n",
        "#reading csv file named 'reactions_table.csv' stored in personal github repository using pandas\n",
        "reactions = pd.read_csv(\"https://raw.githubusercontent.com/Khalidsid/Bigdata_assignment_1/main/reactions_table.csv\")    \n",
        "\n",
        "#reading csv file named 'user_table.csv' stored in personal github repository using pandas\n",
        "user = pd.read_csv(\"https://raw.githubusercontent.com/Khalidsid/Bigdata_assignment_1/main/user_table.csv\")    \n",
        "\n",
        "#adding an index column to the table 'user_table' starting from \n",
        "user['User'] = user.index + 1\n",
        "\n",
        "# displaying first 10 rows of all the tables\n",
        "print(\"Friends Table\\n\", friends.head(10), \"\\n\\n\") \n",
        "print(\"Posts Table\\n\",posts.head(10), \"\\n\\n\")     \n",
        "print(\"Reactions Table\\n\",reactions.head(10), \"\\n\\n\")    \n",
        "print(\"User Table\\n\",user.head(10), \"\\n\\n\")                                                                              "
      ],
      "metadata": {
        "colab": {
          "base_uri": "https://localhost:8080/"
        },
        "id": "jn8H1qZmXw-w",
        "outputId": "678d943d-2dc3-4a8e-8d01-4df4978788ad"
      },
      "execution_count": 1,
      "outputs": [
        {
          "output_type": "stream",
          "name": "stdout",
          "text": [
            "Friends Table\n",
            "    Friend 1  Friend 2\n",
            "0         1       555\n",
            "1         1       921\n",
            "2         1       213\n",
            "3         1       184\n",
            "4         1       242\n",
            "5         1       402\n",
            "6         1       399\n",
            "7         1        84\n",
            "8         1        55\n",
            "9         2       752 \n",
            "\n",
            "\n",
            "Posts Table\n",
            "    User      Post Type   Post Date\n",
            "0     1          Image  1588166977\n",
            "1     1  Status_Change  1588167686\n",
            "2     1           Text  1588168633\n",
            "3     1          Image  1588163570\n",
            "4     1          Image  1588168986\n",
            "5     1          Image  1588163050\n",
            "6     1  Status_Change  1588163267\n",
            "7     1          Video  1588163211\n",
            "8     1          Image  1588166444\n",
            "9     1  Status_Change  1588163571 \n",
            "\n",
            "\n",
            "Reactions Table\n",
            "    User Reaction Type  Reaction Date\n",
            "0  3741       Comment     1588168107\n",
            "1   711      Emoticon     1588166846\n",
            "2   701      Emoticon     1588163334\n",
            "3  4750      Emoticon     1588168182\n",
            "4   656       Comment     1588162272\n",
            "5   673          Like     1588165271\n",
            "6  6204      Emoticon     1588165833\n",
            "7  5313          Like     1588167680\n",
            "8  5164          Like     1588164462\n",
            "9   833       Comment     1588168814 \n",
            "\n",
            "\n",
            "User Table\n",
            "        Surname      Name  Age  Subscription Date  User\n",
            "0        Smith     Sarah   30         1588157373     1\n",
            "1       Picard  Francine   32         1588161732     2\n",
            "2         Roth      Hans   40         1588157337     3\n",
            "3        Pomme       Ali   28         1588165636     4\n",
            "4     Di Lillo     Jordi   42         1588156042     5\n",
            "5         Roth      Anna   26         1588162689     6\n",
            "6         Kirk     Jordi   56         1588153009     7\n",
            "7  Beierlorzer     Josie   20         1588166376     8\n",
            "8       Picard    Robert   39         1588158173     9\n",
            "9        Meier  Jean-Luc   37         1588156009    10 \n",
            "\n",
            "\n"
          ]
        }
      ]
    },
    {
      "cell_type": "markdown",
      "source": [
        "## **Task 1: What is the most common age in the social network? How many people share it?**\n",
        "### Procedure:  To answer this question we need the frequency of the 'Age' column from the table 'user'\n",
        "\n",
        "\n",
        "\n"
      ],
      "metadata": {
        "id": "IVvm48Rs_DJ1"
      }
    },
    {
      "cell_type": "code",
      "source": [
        "\n",
        "age_frequency = user['Age'].value_counts()\n",
        "age_frequency.columns =['Age', 'frequency']\n",
        "print (age_frequency.head(5))"
      ],
      "metadata": {
        "colab": {
          "base_uri": "https://localhost:8080/"
        },
        "id": "HwstIQUzBkKi",
        "outputId": "a9e9665e-df8d-4e78-b73a-1a51793f036c"
      },
      "execution_count": 2,
      "outputs": [
        {
          "output_type": "stream",
          "name": "stdout",
          "text": [
            "35    46\n",
            "30    44\n",
            "29    41\n",
            "38    41\n",
            "33    40\n",
            "Name: Age, dtype: int64\n"
          ]
        }
      ]
    },
    {
      "cell_type": "markdown",
      "source": [
        "**Task 1 Answer :** \n",
        "After executing the code above, we find that the most common \n",
        "Age group is ***35 yrs*** shared by **46 people**\n"
      ],
      "metadata": {
        "id": "ij2hH_L3FzQK"
      }
    },
    {
      "cell_type": "markdown",
      "source": [
        "# **Task 2 : List the five people with least posts and reactions combined. (least active people)** \n",
        "\n",
        "1.   To answer this question we need frequencies of posts by each user and reactions by each user\n",
        "2.   Then we need to add these values together for corresponding user.\n",
        "3. Finally we select the top/bottom 5 based on our requirement\n",
        "\n"
      ],
      "metadata": {
        "id": "mwmM2O8jEmet"
      }
    },
    {
      "cell_type": "markdown",
      "source": [
        "Step1 :Gathering post count for each user"
      ],
      "metadata": {
        "id": "shDLVBv1JbtC"
      }
    },
    {
      "cell_type": "code",
      "source": [
        "#grouping together and counting the number of elements for each user\n",
        "post_frequency = posts.groupby(['User']).count()\n",
        "\n",
        "#Adding a separate count column and storing in a new variable\n",
        "post_frequency['Post Count'] = posts['User'].value_counts()\n",
        "\n",
        "#print the table with required values\n",
        "print (post_frequency['Post Count'])"
      ],
      "metadata": {
        "id": "rfq-gF-dJPfC",
        "colab": {
          "base_uri": "https://localhost:8080/"
        },
        "outputId": "c2348a7a-a81f-41a7-f748-ecf9790b2a39"
      },
      "execution_count": 3,
      "outputs": [
        {
          "output_type": "stream",
          "name": "stdout",
          "text": [
            "User\n",
            "1       18\n",
            "2       11\n",
            "3       13\n",
            "4       15\n",
            "5       10\n",
            "        ..\n",
            "996     12\n",
            "997     11\n",
            "998      8\n",
            "999     23\n",
            "1000     6\n",
            "Name: Post Count, Length: 1000, dtype: int64\n"
          ]
        }
      ]
    },
    {
      "cell_type": "markdown",
      "source": [
        "Step 2 : Gathering reaction count for each user"
      ],
      "metadata": {
        "id": "e1CisNSWJhit"
      }
    },
    {
      "cell_type": "code",
      "source": [
        "#counting the number of reactions for each user and Adding a separate count column and storing in a new variable\n",
        "reaction_frequency = reactions.groupby(['User']).count()\n",
        "reaction_frequency['Reactions Count'] = reactions['User'].value_counts()\n",
        "\n",
        "#print the table with required values\n",
        "print (reaction_frequency['Reactions Count'])"
      ],
      "metadata": {
        "colab": {
          "base_uri": "https://localhost:8080/"
        },
        "id": "XPvDUVo4f3iS",
        "outputId": "5cfa0c2a-969a-4462-c644-bd99a1046fdb"
      },
      "execution_count": 5,
      "outputs": [
        {
          "output_type": "stream",
          "name": "stdout",
          "text": [
            "User\n",
            "17      122\n",
            "65       91\n",
            "66      121\n",
            "67      130\n",
            "68      115\n",
            "       ... \n",
            "8727    121\n",
            "8729     98\n",
            "8948    135\n",
            "9087    113\n",
            "9139     97\n",
            "Name: Reactions Count, Length: 235, dtype: int64\n"
          ]
        }
      ]
    },
    {
      "cell_type": "markdown",
      "source": [
        "Step 3 : Adding post count and reaction count"
      ],
      "metadata": {
        "id": "z2TIKqCzJj7B"
      }
    },
    {
      "cell_type": "code",
      "source": [
        "#Joining Posts and reaction tables using outer join and replacing NaN values with 0\n",
        "postandreactions = pd.merge(post_frequency,reaction_frequency,on='User',how='outer').fillna(0)\n",
        "\n",
        "#Creating New Column 'total_activity' to add total posts and comments by each user\n",
        "postandreactions['total_activity'] = postandreactions['Post Count'] + postandreactions['Reactions Count']\n",
        "\n",
        "#Sorting the table in ascending order of 'total_activity' value and displaying the first 5 elements.  \n",
        "activity = postandreactions.sort_values(by=['total_activity'])\n",
        "\n",
        "#Selecting least 5 active users\n",
        "least_active= activity[['total_activity']].head(5)\n",
        "print(least_active)\n"
      ],
      "metadata": {
        "colab": {
          "base_uri": "https://localhost:8080/"
        },
        "id": "iUCGLjz9o-OI",
        "outputId": "381b1b32-9275-43dc-d424-9b3753bd58c4"
      },
      "execution_count": 6,
      "outputs": [
        {
          "output_type": "stream",
          "name": "stdout",
          "text": [
            "      total_activity\n",
            "User                \n",
            "435              2.0\n",
            "233              2.0\n",
            "135              2.0\n",
            "454              2.0\n",
            "439              2.0\n"
          ]
        }
      ]
    },
    {
      "cell_type": "markdown",
      "source": [
        "**Task 2 Answer** : List of 5 users with least no. of posts and reactions combined is shown in below code block"
      ],
      "metadata": {
        "id": "IV1580LKJnKm"
      }
    },
    {
      "cell_type": "code",
      "source": [
        "#finding the names of users using the iUser using inner join with 'least_active' table and 'user' table on User id\n",
        "\n",
        "least_active_users = pd.merge(least_active, user, on='User', how='inner')\n",
        "\n",
        "print(least_active_users)"
      ],
      "metadata": {
        "colab": {
          "base_uri": "https://localhost:8080/"
        },
        "id": "6M2r22sL9_z6",
        "outputId": "71648457-5f89-4e63-b776-9d4dba60f965"
      },
      "execution_count": 13,
      "outputs": [
        {
          "output_type": "stream",
          "name": "stdout",
          "text": [
            "   User  total_activity   Surname     Name  Age  Subscription Date\n",
            "0   435             2.0  Di Lillo      Lee   43         1588162875\n",
            "1   233             2.0     Smith     Hans   31         1588163964\n",
            "2   135             2.0    Picard  Andreas   33         1588158107\n",
            "3   454             2.0   Mueller      Ali   35         1588158362\n",
            "4   439             2.0     Smith   Thomas   37         1588162598\n"
          ]
        }
      ]
    },
    {
      "cell_type": "markdown",
      "source": [
        "# **Task 3 : Network graph** "
      ],
      "metadata": {
        "id": "AYnsjnyqNHdp"
      }
    },
    {
      "cell_type": "markdown",
      "source": [
        "Create a plot of the friendship graph (up to degree 2) for all users: \n",
        "- named „Jean-Luc Picard“ \n",
        "- named „Jean-Luc Roth“"
      ],
      "metadata": {
        "id": "1zdr5yKlNly0"
      }
    },
    {
      "cell_type": "markdown",
      "source": [
        "Step1: Finding the Users (Nodes)"
      ],
      "metadata": {
        "id": "hvy0IvaVaSXA"
      }
    },
    {
      "cell_type": "code",
      "source": [
        "#Selecting the nodes Table containing the users named Jean - Luc Picard and Jean Luc Roth\n",
        "surnames = ['Picard', 'Roth']\n",
        "node_list = user.loc[(user.Name == 'Jean-Luc') & (user.Surname.isin(surnames))]\n",
        "\n",
        "print(node_list)\n",
        "\n"
      ],
      "metadata": {
        "colab": {
          "base_uri": "https://localhost:8080/",
          "height": 123
        },
        "id": "yw7VjutNN7YL",
        "outputId": "7e037d21-8f58-40c3-e3e8-07f44548c993"
      },
      "execution_count": null,
      "outputs": [
        {
          "output_type": "stream",
          "name": "stdout",
          "text": [
            "     User Surname      Name  Age  Subscription Date\n",
            "76     77    Roth  Jean-Luc   40         1588150286\n",
            "330   331    Roth  Jean-Luc   25         1588156458\n",
            "369   370    Roth  Jean-Luc   35         1588155440\n",
            "897   898    Roth  Jean-Luc   29         1588161280\n"
          ]
        },
        {
          "output_type": "execute_result",
          "data": {
            "text/plain": [
              "'\\nnode_list = user[[\"User\", \"Surname\",\"Name\",\"Age\",\"Subscription Date\"]]\\nnode_list.head(5)'"
            ],
            "application/vnd.google.colaboratory.intrinsic+json": {
              "type": "string"
            }
          },
          "metadata": {},
          "execution_count": 6
        }
      ]
    },
    {
      "cell_type": "markdown",
      "source": [
        "*From* above result it is clear that there is no user called 'Jean-Luc Picard'. Therefore we will be creating graph of friend for User named 'Jean-Luc Roth Only'"
      ],
      "metadata": {
        "id": "KvXVAtqcZ2t0"
      }
    },
    {
      "cell_type": "code",
      "source": [
        "import networkx as nx\n",
        "import matplotlib.pyplot as plt\n",
        "\n",
        "edges = friends[friends['Friend 1'].isin(node_list['User'])]\n",
        "G = nx.from_pandas_edgelist(edges, 'Friend 1', 'Friend 2')\n",
        "\n",
        "nx.draw(G, with_labels=True, node_size=400, font_size=12, pos = nx.spring_layout(G, k=0.18, iterations=40))\n",
        "plt.show()"
      ],
      "metadata": {
        "colab": {
          "base_uri": "https://localhost:8080/",
          "height": 319
        },
        "id": "jTtasQJOspSR",
        "outputId": "bdff1873-2b71-44f3-cd33-830f24816846"
      },
      "execution_count": null,
      "outputs": [
        {
          "output_type": "display_data",
          "data": {
            "text/plain": [
              "<Figure size 432x288 with 1 Axes>"
            ],
            "image/png": "[encoded data removed]"
          },
          "metadata": {}
        }
      ]
    }
  ]
}
